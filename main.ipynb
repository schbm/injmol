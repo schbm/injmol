{
 "cells": [
  {
   "cell_type": "markdown",
   "metadata": {},
   "source": [
    "# StatML Testat 3\n",
    "## Maneuver Detection for Loft Dynamics Helicopter Simulation\n",
    "Authors: Marcel Schubert, Florian Eugster, Nicola Dall'Acqua\n",
    "#\n",
    "#\n",
    "#\n",
    "#\n",
    "#\n",
    "#"
   ]
  },
  {
   "cell_type": "markdown",
   "metadata": {},
   "source": [
    "### Imports"
   ]
  },
  {
   "cell_type": "code",
   "execution_count": 1,
   "metadata": {},
   "outputs": [],
   "source": [
    "import pandas as pd\n",
    "import pyarrow          # Required for pandas read_parquet()\n",
    "import os\n",
    "import json"
   ]
  },
  {
   "cell_type": "markdown",
   "metadata": {},
   "source": [
    "### 1. Reading, Splitting according to project documentation and visualizing data"
   ]
  },
  {
   "cell_type": "code",
   "execution_count": null,
   "metadata": {},
   "outputs": [],
   "source": [
    "# Moving reserved data (as specified in project documentation) to test folder\n",
    "# 6 out of 19 test flights were designated test data, i.e. ~31%\n",
    "\n",
    "if not os.path.exists('.\\\\data\\\\test'):\n",
    "    os.makedirs('.\\\\data\\\\test')\n",
    "\n",
    "    os.replace('.\\\\data\\\\0b3f3902-2c04-4625-8576-3bb963e3d709.parquet', '.\\\\data\\\\test\\\\0b3f3902-2c04-4625-8576-3bb963e3d709.parquet')\n",
    "    os.replace('.\\\\data\\\\0b3f3902-2c04-4625-8576-3bb963e3d709.json', '.\\\\data\\\\test\\\\0b3f3902-2c04-4625-8576-3bb963e3d709.json')\n",
    "\n",
    "    os.replace('.\\\\data\\\\663f573a-74c5-4368-b60b-1fb433cd835d.parquet', '.\\\\data\\\\test\\\\663f573a-74c5-4368-b60b-1fb433cd835d.parquet')\n",
    "    os.replace('.\\\\data\\\\663f573a-74c5-4368-b60b-1fb433cd835d.json', '.\\\\data\\\\test\\\\663f573a-74c5-4368-b60b-1fb433cd835d.json')\n",
    "\n",
    "    os.replace('.\\\\data\\\\8c36586f-94e9-4ae9-8384-0f3342008677.parquet', '.\\\\data\\\\test\\\\8c36586f-94e9-4ae9-8384-0f3342008677.parquet')\n",
    "    os.replace('.\\\\data\\\\8c36586f-94e9-4ae9-8384-0f3342008677.json', '.\\\\data\\\\test\\\\8c36586f-94e9-4ae9-8384-0f3342008677.json')\n",
    "\n",
    "    os.replace('.\\\\data\\\\a376807a-82d3-4526-b19f-98d4b3f9078b.parquet', '.\\\\data\\\\test\\\\a376807a-82d3-4526-b19f-98d4b3f9078b.parquet')\n",
    "    os.replace('.\\\\data\\\\a376807a-82d3-4526-b19f-98d4b3f9078b.json', '.\\\\data\\\\test\\\\a376807a-82d3-4526-b19f-98d4b3f9078b.json')\n",
    "\n",
    "    os.replace('.\\\\data\\\\d76bb0eb-bc08-4b35-8c1f-37369452083d.parquet', '.\\\\data\\\\test\\\\d76bb0eb-bc08-4b35-8c1f-37369452083d.parquet')\n",
    "    os.replace('.\\\\data\\\\d76bb0eb-bc08-4b35-8c1f-37369452083d.json', '.\\\\data\\\\test\\\\d76bb0eb-bc08-4b35-8c1f-37369452083d.json')\n",
    "\n",
    "    os.replace('.\\\\data\\\\f40f71de-5cc2-4719-8a5a-abcf950cbd71.parquet', '.\\\\data\\\\test\\\\f40f71de-5cc2-4719-8a5a-abcf950cbd71.parquet')\n",
    "    os.replace('.\\\\data\\\\f40f71de-5cc2-4719-8a5a-abcf950cbd71.json', '.\\\\data\\\\test\\\\f40f71de-5cc2-4719-8a5a-abcf950cbd71.json')"
   ]
  },
  {
   "cell_type": "code",
   "execution_count": 6,
   "metadata": {},
   "outputs": [],
   "source": [
    "df_train_array = []\n",
    "labels_train_array = []\n",
    "df_test_array = []\n",
    "labels_test_array = []\n",
    "state_descriptions = {}\n"
   ]
  },
  {
   "cell_type": "code",
   "execution_count": null,
   "metadata": {},
   "outputs": [
    {
     "ename": "ArrowMemoryError",
     "evalue": "malloc of size 1575876736 failed",
     "output_type": "error",
     "traceback": [
      "\u001b[1;31m---------------------------------------------------------------------------\u001b[0m",
      "\u001b[1;31mArrowMemoryError\u001b[0m                          Traceback (most recent call last)",
      "Cell \u001b[1;32mIn[7], line 8\u001b[0m\n\u001b[0;32m      6\u001b[0m \u001b[38;5;28;01mfor\u001b[39;00m test_file \u001b[38;5;129;01min\u001b[39;00m os\u001b[38;5;241m.\u001b[39mlistdir(\u001b[38;5;124m'\u001b[39m\u001b[38;5;124m.\u001b[39m\u001b[38;5;130;01m\\\\\u001b[39;00m\u001b[38;5;124mdata\u001b[39m\u001b[38;5;130;01m\\\\\u001b[39;00m\u001b[38;5;124mtest\u001b[39m\u001b[38;5;124m'\u001b[39m):\n\u001b[0;32m      7\u001b[0m     \u001b[38;5;28;01mif\u001b[39;00m test_file\u001b[38;5;241m.\u001b[39mlower()\u001b[38;5;241m.\u001b[39mendswith(\u001b[38;5;124m'\u001b[39m\u001b[38;5;124m.parquet\u001b[39m\u001b[38;5;124m'\u001b[39m):\n\u001b[1;32m----> 8\u001b[0m         df_test_array\u001b[38;5;241m.\u001b[39mappend(\u001b[43mpd\u001b[49m\u001b[38;5;241;43m.\u001b[39;49m\u001b[43mread_parquet\u001b[49m\u001b[43m(\u001b[49m\u001b[43mos\u001b[49m\u001b[38;5;241;43m.\u001b[39;49m\u001b[43mpath\u001b[49m\u001b[38;5;241;43m.\u001b[39;49m\u001b[43mjoin\u001b[49m\u001b[43m(\u001b[49m\u001b[38;5;124;43m'\u001b[39;49m\u001b[38;5;124;43m.\u001b[39;49m\u001b[38;5;130;43;01m\\\\\u001b[39;49;00m\u001b[38;5;124;43mdata\u001b[39;49m\u001b[38;5;130;43;01m\\\\\u001b[39;49;00m\u001b[38;5;124;43mtest\u001b[39;49m\u001b[38;5;124;43m'\u001b[39;49m\u001b[43m,\u001b[49m\u001b[43m \u001b[49m\u001b[43mtest_file\u001b[49m\u001b[43m)\u001b[49m\u001b[43m,\u001b[49m\u001b[43m \u001b[49m\u001b[43mengine\u001b[49m\u001b[38;5;241;43m=\u001b[39;49m\u001b[38;5;124;43m'\u001b[39;49m\u001b[38;5;124;43mpyarrow\u001b[39;49m\u001b[38;5;124;43m'\u001b[39;49m\u001b[43m)\u001b[49m)\n\u001b[0;32m      9\u001b[0m     \u001b[38;5;28;01melse\u001b[39;00m:\n\u001b[0;32m     10\u001b[0m         \u001b[38;5;28;01mwith\u001b[39;00m \u001b[38;5;28mopen\u001b[39m(os\u001b[38;5;241m.\u001b[39mpath\u001b[38;5;241m.\u001b[39mjoin(\u001b[38;5;124m'\u001b[39m\u001b[38;5;124m.\u001b[39m\u001b[38;5;130;01m\\\\\u001b[39;00m\u001b[38;5;124mdata\u001b[39m\u001b[38;5;130;01m\\\\\u001b[39;00m\u001b[38;5;124mtest\u001b[39m\u001b[38;5;124m'\u001b[39m, test_file)) \u001b[38;5;28;01mas\u001b[39;00m json_data:\n",
      "File \u001b[1;32mc:\\Users\\ndand\\miniconda3\\envs\\AIFO23\\lib\\site-packages\\pandas\\io\\parquet.py:509\u001b[0m, in \u001b[0;36mread_parquet\u001b[1;34m(path, engine, columns, storage_options, use_nullable_dtypes, dtype_backend, **kwargs)\u001b[0m\n\u001b[0;32m    506\u001b[0m     use_nullable_dtypes \u001b[38;5;241m=\u001b[39m \u001b[38;5;28;01mFalse\u001b[39;00m\n\u001b[0;32m    507\u001b[0m check_dtype_backend(dtype_backend)\n\u001b[1;32m--> 509\u001b[0m \u001b[38;5;28;01mreturn\u001b[39;00m impl\u001b[38;5;241m.\u001b[39mread(\n\u001b[0;32m    510\u001b[0m     path,\n\u001b[0;32m    511\u001b[0m     columns\u001b[38;5;241m=\u001b[39mcolumns,\n\u001b[0;32m    512\u001b[0m     storage_options\u001b[38;5;241m=\u001b[39mstorage_options,\n\u001b[0;32m    513\u001b[0m     use_nullable_dtypes\u001b[38;5;241m=\u001b[39muse_nullable_dtypes,\n\u001b[0;32m    514\u001b[0m     dtype_backend\u001b[38;5;241m=\u001b[39mdtype_backend,\n\u001b[0;32m    515\u001b[0m     \u001b[38;5;241m*\u001b[39m\u001b[38;5;241m*\u001b[39mkwargs,\n\u001b[0;32m    516\u001b[0m )\n",
      "File \u001b[1;32mc:\\Users\\ndand\\miniconda3\\envs\\AIFO23\\lib\\site-packages\\pandas\\io\\parquet.py:230\u001b[0m, in \u001b[0;36mPyArrowImpl.read\u001b[1;34m(self, path, columns, use_nullable_dtypes, dtype_backend, storage_options, **kwargs)\u001b[0m\n\u001b[0;32m    226\u001b[0m \u001b[38;5;28;01mtry\u001b[39;00m:\n\u001b[0;32m    227\u001b[0m     pa_table \u001b[38;5;241m=\u001b[39m \u001b[38;5;28mself\u001b[39m\u001b[38;5;241m.\u001b[39mapi\u001b[38;5;241m.\u001b[39mparquet\u001b[38;5;241m.\u001b[39mread_table(\n\u001b[0;32m    228\u001b[0m         path_or_handle, columns\u001b[38;5;241m=\u001b[39mcolumns, \u001b[38;5;241m*\u001b[39m\u001b[38;5;241m*\u001b[39mkwargs\n\u001b[0;32m    229\u001b[0m     )\n\u001b[1;32m--> 230\u001b[0m     result \u001b[38;5;241m=\u001b[39m pa_table\u001b[38;5;241m.\u001b[39mto_pandas(\u001b[38;5;241m*\u001b[39m\u001b[38;5;241m*\u001b[39mto_pandas_kwargs)\n\u001b[0;32m    232\u001b[0m     \u001b[38;5;28;01mif\u001b[39;00m manager \u001b[38;5;241m==\u001b[39m \u001b[38;5;124m\"\u001b[39m\u001b[38;5;124marray\u001b[39m\u001b[38;5;124m\"\u001b[39m:\n\u001b[0;32m    233\u001b[0m         result \u001b[38;5;241m=\u001b[39m result\u001b[38;5;241m.\u001b[39m_as_manager(\u001b[38;5;124m\"\u001b[39m\u001b[38;5;124marray\u001b[39m\u001b[38;5;124m\"\u001b[39m, copy\u001b[38;5;241m=\u001b[39m\u001b[38;5;28;01mFalse\u001b[39;00m)\n",
      "File \u001b[1;32mc:\\Users\\ndand\\miniconda3\\envs\\AIFO23\\lib\\site-packages\\pyarrow\\array.pxi:887\u001b[0m, in \u001b[0;36mpyarrow.lib._PandasConvertible.to_pandas\u001b[1;34m()\u001b[0m\n",
      "File \u001b[1;32mc:\\Users\\ndand\\miniconda3\\envs\\AIFO23\\lib\\site-packages\\pyarrow\\table.pxi:5132\u001b[0m, in \u001b[0;36mpyarrow.lib.Table._to_pandas\u001b[1;34m()\u001b[0m\n",
      "File \u001b[1;32mc:\\Users\\ndand\\miniconda3\\envs\\AIFO23\\lib\\site-packages\\pyarrow\\pandas_compat.py:793\u001b[0m, in \u001b[0;36mtable_to_dataframe\u001b[1;34m(options, table, categories, ignore_metadata, types_mapper)\u001b[0m\n\u001b[0;32m    790\u001b[0m columns \u001b[38;5;241m=\u001b[39m _deserialize_column_index(table, all_columns, column_indexes)\n\u001b[0;32m    792\u001b[0m column_names \u001b[38;5;241m=\u001b[39m table\u001b[38;5;241m.\u001b[39mcolumn_names\n\u001b[1;32m--> 793\u001b[0m result \u001b[38;5;241m=\u001b[39m \u001b[43mpa\u001b[49m\u001b[38;5;241;43m.\u001b[39;49m\u001b[43mlib\u001b[49m\u001b[38;5;241;43m.\u001b[39;49m\u001b[43mtable_to_blocks\u001b[49m\u001b[43m(\u001b[49m\u001b[43moptions\u001b[49m\u001b[43m,\u001b[49m\u001b[43m \u001b[49m\u001b[43mtable\u001b[49m\u001b[43m,\u001b[49m\u001b[43m \u001b[49m\u001b[43mcategories\u001b[49m\u001b[43m,\u001b[49m\n\u001b[0;32m    794\u001b[0m \u001b[43m                                \u001b[49m\u001b[38;5;28;43mlist\u001b[39;49m\u001b[43m(\u001b[49m\u001b[43mext_columns_dtypes\u001b[49m\u001b[38;5;241;43m.\u001b[39;49m\u001b[43mkeys\u001b[49m\u001b[43m(\u001b[49m\u001b[43m)\u001b[49m\u001b[43m)\u001b[49m\u001b[43m)\u001b[49m\n\u001b[0;32m    795\u001b[0m \u001b[38;5;28;01mif\u001b[39;00m _pandas_api\u001b[38;5;241m.\u001b[39mis_ge_v3():\n\u001b[0;32m    796\u001b[0m     \u001b[38;5;28;01mfrom\u001b[39;00m \u001b[38;5;21;01mpandas\u001b[39;00m\u001b[38;5;21;01m.\u001b[39;00m\u001b[38;5;21;01mapi\u001b[39;00m\u001b[38;5;21;01m.\u001b[39;00m\u001b[38;5;21;01minternals\u001b[39;00m \u001b[38;5;28;01mimport\u001b[39;00m create_dataframe_from_blocks\n",
      "File \u001b[1;32mc:\\Users\\ndand\\miniconda3\\envs\\AIFO23\\lib\\site-packages\\pyarrow\\table.pxi:4061\u001b[0m, in \u001b[0;36mpyarrow.lib.table_to_blocks\u001b[1;34m()\u001b[0m\n",
      "File \u001b[1;32mc:\\Users\\ndand\\miniconda3\\envs\\AIFO23\\lib\\site-packages\\pyarrow\\error.pxi:92\u001b[0m, in \u001b[0;36mpyarrow.lib.check_status\u001b[1;34m()\u001b[0m\n",
      "\u001b[1;31mArrowMemoryError\u001b[0m: malloc of size 1575876736 failed"
     ]
    }
   ],
   "source": [
    "# TODO: Increase jupyter RAM limit to allow loading entire dataset\n",
    "# Alternatively, load data in chunks\n",
    "\n",
    "\n",
    "# Iterates only through train data\n",
    "if not df_train_array:\n",
    "    for train_file in os.listdir('.\\\\data'):\n",
    "        \n",
    "        if train_file == 'test':\n",
    "            for test_file in os.listdir('.\\\\data\\\\test'):\n",
    "                if test_file.lower().endswith('.parquet'):\n",
    "                    df_test_array.append(pd.read_parquet(os.path.join('.\\\\data\\\\test', test_file), engine='pyarrow'))\n",
    "                else:\n",
    "                    with open(os.path.join('.\\\\data\\\\test', test_file)) as json_data:\n",
    "                        labels_test_array.append(json.load(json_data))\n",
    "\n",
    "        if train_file == 'StateDescriptions.json':\n",
    "            with open(os.path.join('.\\\\data', train_file)) as json_data:\n",
    "                state_descriptions = json.load(json_data)\n",
    "\n",
    "        if train_file.lower().endswith('.parquet'):\n",
    "            df_train_array.append(pd.read_parquet(os.path.join('.\\\\data', train_file), engine='pyarrow'))\n",
    "        else:\n",
    "            with open(os.path.join('.\\\\data', train_file)) as json_data:\n",
    "                labels_train_array.append(json.load(json_data))\n",
    "\n",
    "print(df_train_array[0].head())\n",
    "print(labels_train_array[0])"
   ]
  }
 ],
 "metadata": {
  "kernelspec": {
   "display_name": "AIFO23",
   "language": "python",
   "name": "python3"
  },
  "language_info": {
   "codemirror_mode": {
    "name": "ipython",
    "version": 3
   },
   "file_extension": ".py",
   "mimetype": "text/x-python",
   "name": "python",
   "nbconvert_exporter": "python",
   "pygments_lexer": "ipython3",
   "version": "3.10.13"
  }
 },
 "nbformat": 4,
 "nbformat_minor": 2
}
