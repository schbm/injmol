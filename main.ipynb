{
 "cells": [
  {
   "cell_type": "markdown",
   "metadata": {},
   "source": [
    "# StatML Testat 3\n",
    "## Maneuver Detection for Loft Dynamics Helicopter Simulation\n",
    "#### Authors: Marcel Schubert, Florian Eugster, Nicola Dall'Acqua"
   ]
  }
 ],
 "metadata": {
  "language_info": {
   "name": "python"
  }
 },
 "nbformat": 4,
 "nbformat_minor": 2
}
